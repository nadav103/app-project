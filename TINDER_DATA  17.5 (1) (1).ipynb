{
 "cells": [
  {
   "cell_type": "markdown",
   "id": "6b8c7480-f73b-46b8-a77a-5bbab7d71789",
   "metadata": {},
   "source": [
    "# Project Name: `TINDER DATA`"
   ]
  },
  {
   "cell_type": "markdown",
   "id": "dc556807-f81e-44dc-a59f-a406ddffa3d4",
   "metadata": {},
   "source": [
    "### Project team members: \n",
    "- Tal Rubin\n",
    "- Shani Shasha\n",
    "- Nadav Barkan"
   ]
  },
  {
   "cell_type": "markdown",
   "id": "8dd5122f-dfdf-43e9-a043-7cfccf79788d",
   "metadata": {},
   "source": [
    "## FEMALES VS MALES <div> <img src=\"https://thumbs.dreamstime.com/z/d-rendering-male-versus-female-gender-symbols-isolated-white-140332269.jpg\" width=\"200\"/> </div>"
   ]
  },
  {
   "cell_type": "code",
   "execution_count": 1,
   "id": "4af2394b-245d-4673-9134-9e9b82cd01ad",
   "metadata": {},
   "outputs": [],
   "source": [
    "import pandas as pd\n",
    "\n",
    "file_url = \"https://raw.githubusercontent.com/nadav103/app-project/refs/heads/main/Tinder_Data_v3_Clean_Edition.csv\"\n",
    "dating_df = pd.read_csv(file_url)"
   ]
  },
  {
   "cell_type": "code",
   "execution_count": 2,
   "id": "3f3789e4-ecd9-405d-a1ed-c19a250a90cc",
   "metadata": {},
   "outputs": [
    {
     "data": {
      "text/html": [
       "<div>\n",
       "<style scoped>\n",
       "    .dataframe tbody tr th:only-of-type {\n",
       "        vertical-align: middle;\n",
       "    }\n",
       "\n",
       "    .dataframe tbody tr th {\n",
       "        vertical-align: top;\n",
       "    }\n",
       "\n",
       "    .dataframe thead th {\n",
       "        text-align: right;\n",
       "    }\n",
       "</style>\n",
       "<table border=\"1\" class=\"dataframe\">\n",
       "  <thead>\n",
       "    <tr style=\"text-align: right;\">\n",
       "      <th></th>\n",
       "      <th>gender</th>\n",
       "    </tr>\n",
       "  </thead>\n",
       "  <tbody>\n",
       "    <tr>\n",
       "      <th>count</th>\n",
       "      <td>1209</td>\n",
       "    </tr>\n",
       "    <tr>\n",
       "      <th>unique</th>\n",
       "      <td>2</td>\n",
       "    </tr>\n",
       "    <tr>\n",
       "      <th>top</th>\n",
       "      <td>M</td>\n",
       "    </tr>\n",
       "    <tr>\n",
       "      <th>freq</th>\n",
       "      <td>1059</td>\n",
       "    </tr>\n",
       "  </tbody>\n",
       "</table>\n",
       "</div>"
      ],
      "text/plain": [
       "       gender\n",
       "count    1209\n",
       "unique      2\n",
       "top         M\n",
       "freq     1059"
      ]
     },
     "execution_count": 2,
     "metadata": {},
     "output_type": "execute_result"
    }
   ],
   "source": [
    "dating_df[['gender']].describe(include = 'object')"
   ]
  },
  {
   "cell_type": "code",
   "execution_count": 3,
   "id": "fd6397a3-2935-425a-b2cb-e3fc8b0213c4",
   "metadata": {},
   "outputs": [
    {
     "data": {
      "text/html": [
       "<div>\n",
       "<style scoped>\n",
       "    .dataframe tbody tr th:only-of-type {\n",
       "        vertical-align: middle;\n",
       "    }\n",
       "\n",
       "    .dataframe tbody tr th {\n",
       "        vertical-align: top;\n",
       "    }\n",
       "\n",
       "    .dataframe thead th {\n",
       "        text-align: right;\n",
       "    }\n",
       "</style>\n",
       "<table border=\"1\" class=\"dataframe\">\n",
       "  <thead>\n",
       "    <tr style=\"text-align: right;\">\n",
       "      <th></th>\n",
       "      <th>gender</th>\n",
       "      <th>num_of_users</th>\n",
       "      <th>avg_num_of_matches</th>\n",
       "      <th>avg_days_on_app</th>\n",
       "      <th>avg_num_of_likes_given</th>\n",
       "    </tr>\n",
       "  </thead>\n",
       "  <tbody>\n",
       "    <tr>\n",
       "      <th>0</th>\n",
       "      <td>F</td>\n",
       "      <td>150</td>\n",
       "      <td>858.153333</td>\n",
       "      <td>297.760000</td>\n",
       "      <td>2324.433333</td>\n",
       "    </tr>\n",
       "    <tr>\n",
       "      <th>1</th>\n",
       "      <td>M</td>\n",
       "      <td>1059</td>\n",
       "      <td>497.463645</td>\n",
       "      <td>331.525024</td>\n",
       "      <td>16388.864967</td>\n",
       "    </tr>\n",
       "  </tbody>\n",
       "</table>\n",
       "</div>"
      ],
      "text/plain": [
       "  gender  num_of_users  avg_num_of_matches  avg_days_on_app  \\\n",
       "0      F           150          858.153333       297.760000   \n",
       "1      M          1059          497.463645       331.525024   \n",
       "\n",
       "   avg_num_of_likes_given  \n",
       "0             2324.433333  \n",
       "1            16388.864967  "
      ]
     },
     "execution_count": 3,
     "metadata": {},
     "output_type": "execute_result"
    }
   ],
   "source": [
    "stat_by_gender = dating_df.groupby(\"gender\").agg(\n",
    "    num_of_users=('user_age', 'count'),\n",
    "    avg_num_of_matches=('no_of_matches', 'mean'), \n",
    "    avg_days_on_app = ('no_of_days', 'mean'),\n",
    "    avg_num_of_likes_given = ('swipe_likes', 'mean')).reset_index()\n",
    "stat_by_gender"
   ]
  },
  {
   "cell_type": "code",
   "execution_count": 4,
   "id": "69bdc449-3308-45bf-be9e-cbbbb31aa6d8",
   "metadata": {},
   "outputs": [
    {
     "data": {
      "image/png": "[encoded data removed]",
      "text/plain": [
       "<Figure size 562x500 with 1 Axes>"
      ]
     },
     "metadata": {},
     "output_type": "display_data"
    }
   ],
   "source": [
    "import matplotlib.pyplot as plt\n",
    "import seaborn as sns  \n",
    "sns.__version__\n",
    "\n",
    "filtered_df = dating_df[(dating_df['no_of_matches'] < 6000)]\n",
    "sns.lmplot(data=filtered_df, x='no_of_days', y='no_of_matches', hue='gender', palette='pastel')\n",
    "plt.title('The influence of app activity on matches')\n",
    "plt.show()\n"
   ]
  },
  {
   "cell_type": "markdown",
   "id": "ba23ee59-07c3-4b62-b66d-1491efa59f78",
   "metadata": {},
   "source": [
    "#### מסקנה ראשונה: \n",
    "השפעה ישירה של כמות הימים הפעילים באפליקציה גם אצל נשים וגם אצל גברים על כמות ההתאמות. לעומת כמות התאמות גבוהה משמעותית אצל נשים לעומת גברים למרות שמספר הגברים גדול פי 3 לערך ממספר הנשים"
   ]
  },
  {
   "cell_type": "markdown",
   "id": "17a73ef5-91d8-404a-be6c-9e6b1dae88b0",
   "metadata": {},
   "source": [
    "## The conecction between age and success \n",
    "<div> <img src= \"https://th.bing.com/th/id/OIP.kugYVMcwCCzLjaRekZDlAAHaGK?rs=1&pid=ImgDetMain\" width=\"200\"/> </div>"
   ]
  },
  {
   "cell_type": "code",
   "execution_count": 5,
   "id": "1bceb90c-84b3-4d50-85a6-5601315226f5",
   "metadata": {},
   "outputs": [
    {
     "data": {
      "image/png": "[encoded data removed]",
      "text/plain": [
       "<Figure size 1700x200 with 2 Axes>"
      ]
     },
     "metadata": {},
     "output_type": "display_data"
    }
   ],
   "source": [
    "selected_columns1 = ['user_age', 'no_of_matches', 'no_of_days', 'nrOfConversations']\n",
    "correlation_dating = dating_df[selected_columns1].corr(method = 'spearman' ).round(2)\n",
    "plt.figure(figsize=(17,2))\n",
    "sns.heatmap(data=correlation_dating,cmap='coolwarm', annot=True)\n",
    "plt.show()"
   ]
  },
  {
   "cell_type": "markdown",
   "id": "d486da28-8679-43b3-9486-9d676420e3de",
   "metadata": {},
   "source": [
    "הגיל לא מאוד משפיע יש מגמה חלשה של ירידה בפעילות או בהצלחה ככל שהגיל עולה\n",
    "\n",
    "משך הזמן באפליקציה קשור בצורה חזקה עם כמות ההתאמות והשיחות\n",
    "\n",
    "הקשרים בין התאמות, ימים ושיחות מאוד חיוביים - יש הקשר ברור בין שימוש לאורך זמן לבין אינטראקציות"
   ]
  },
  {
   "cell_type": "code",
   "execution_count": 6,
   "id": "57145c43-e855-4eb2-ad85-6f0522dfd0fe",
   "metadata": {},
   "outputs": [
    {
     "name": "stderr",
     "output_type": "stream",
     "text": [
      "C:\\Users\\itama\\AppData\\Local\\Temp\\ipykernel_192060\\1839801752.py:4: FutureWarning: \n",
      "\n",
      "Passing `palette` without assigning `hue` is deprecated and will be removed in v0.14.0. Assign the `x` variable to `hue` and set `legend=False` for the same effect.\n",
      "\n",
      "  sns.barplot(dating_df, x ='age_group', y= 'no_of_matches' ,palette = 'Blues', ax = ax[0,0])\n",
      "C:\\Users\\itama\\AppData\\Local\\Temp\\ipykernel_192060\\1839801752.py:5: FutureWarning: \n",
      "\n",
      "Passing `palette` without assigning `hue` is deprecated and will be removed in v0.14.0. Assign the `x` variable to `hue` and set `legend=False` for the same effect.\n",
      "\n",
      "  sns.barplot(dating_df, x ='age_group', y= 'no_of_days',palette = 'Greens', ax = ax[0,1])\n",
      "C:\\Users\\itama\\AppData\\Local\\Temp\\ipykernel_192060\\1839801752.py:6: FutureWarning: \n",
      "\n",
      "Passing `palette` without assigning `hue` is deprecated and will be removed in v0.14.0. Assign the `x` variable to `hue` and set `legend=False` for the same effect.\n",
      "\n",
      "  sns.barplot(dating_df, x ='age_group', y= 'nrOfConversations', palette = 'Purples', ax = ax[1,0])\n"
     ]
    },
    {
     "data": {
      "image/png": "[encoded data removed]",
      "text/plain": [
       "<Figure size 1200x700 with 4 Axes>"
      ]
     },
     "metadata": {},
     "output_type": "display_data"
    }
   ],
   "source": [
    "fig, ax = plt.subplots(2,2, figsize = (12,7))\n",
    "plt.subplots_adjust(wspace = 0.3)\n",
    "dating_df['age_group'] = pd.cut(dating_df['user_age'],bins=[20, 21, 40, 100],  labels=['20-', '26-40', '41+'])\n",
    "sns.barplot(dating_df, x ='age_group', y= 'no_of_matches' ,palette = 'Blues', ax = ax[0,0])\n",
    "sns.barplot(dating_df, x ='age_group', y= 'no_of_days',palette = 'Greens', ax = ax[0,1])\n",
    "sns.barplot(dating_df, x ='age_group', y= 'nrOfConversations', palette = 'Purples', ax = ax[1,0])\n",
    "ax[1, 1].axis('off')\n",
    "plt.show()"
   ]
  },
  {
   "cell_type": "markdown",
   "id": "c16df581-cc4d-4bd7-9e9d-a0a19f265712",
   "metadata": {},
   "source": [
    "#### מסקנה שניה: \n",
    "הגיל בהחלט בעל השפעה נמוכה מהמצופה על רמת 'ההצלחה' באפליקציה. ניתן לראות בהחלט שככל שהגיל עולה מתקיימות יותר שיחות לאחר התאמה ראשונית ואילו כמות הימים של השימוש באפליקציה קטן עם הגיל, אמנם לא בצורה משמעותית."
   ]
  },
  {
   "cell_type": "markdown",
   "id": "6d92bd67-20f3-47d7-bc29-52cd38e84f92",
   "metadata": {},
   "source": [
    "## Ghosting \n",
    "<div> <img src=\"https://arts.eu/fileadmin/_processed_/d/7/csm_KW37_Header_0bcc89649e.png\" width=\"200\"/> </div>"
   ]
  },
  {
   "cell_type": "code",
   "execution_count": 7,
   "id": "59534185-5c30-4a91-8d6c-3f119583a47e",
   "metadata": {},
   "outputs": [],
   "source": [
    "dating_df ['continued_conversations']= dating_df ['nrOfConversations'] - dating_df ['nrOfGhostingsAfterInitialMessage']"
   ]
  },
  {
   "cell_type": "code",
   "execution_count": 8,
   "id": "412e3daf-979c-47d8-a7aa-413a72e5f726",
   "metadata": {},
   "outputs": [
    {
     "data": {
      "application/vnd.plotly.v1+json": {
       "config": {
        "plotlyServerURL": "https://plot.ly"
       },
       "data": [
        {
         "customdata": [
          [
           "ghosting"
          ],
          [
           "continued"
          ]
         ],
         "domain": {
          "x": [
           0,
           1
          ],
          "y": [
           0,
           1
          ]
         },
         "hovertemplate": "Type=%{customdata[0]}<br>Count=%{value}<extra></extra>",
         "labels": [
          "ghosting",
          "continued"
         ],
         "legendgroup": "",
         "marker": {
          "colors": [
           "#e74c3c",
           "#27ae60"
          ],
          "line": {
           "color": "black",
           "width": 0.8
          }
         },
         "name": "",
         "showlegend": true,
         "textfont": {
          "size": 15
         },
         "textinfo": "label+percent",
         "type": "pie",
         "values": {
          "bdata": "aYsAABbrAwA=",
          "dtype": "i4"
         }
        }
       ],
       "layout": {
        "legend": {
         "tracegroupgap": 0
        },
        "margin": {
         "t": 80
        },
        "template": {
         "data": {
          "bar": [
           {
            "error_x": {
             "color": "#2a3f5f"
            },
            "error_y": {
             "color": "#2a3f5f"
            },
            "marker": {
             "line": {
              "color": "#E5ECF6",
              "width": 0.5
             },
             "pattern": {
              "fillmode": "overlay",
              "size": 10,
              "solidity": 0.2
             }
            },
            "type": "bar"
           }
          ],
          "barpolar": [
           {
            "marker": {
             "line": {
              "color": "#E5ECF6",
              "width": 0.5
             },
             "pattern": {
              "fillmode": "overlay",
              "size": 10,
              "solidity": 0.2
             }
            },
            "type": "barpolar"
           }
          ],
          "carpet": [
           {
            "aaxis": {
             "endlinecolor": "#2a3f5f",
             "gridcolor": "white",
             "linecolor": "white",
             "minorgridcolor": "white",
             "startlinecolor": "#2a3f5f"
            },
            "baxis": {
             "endlinecolor": "#2a3f5f",
             "gridcolor": "white",
             "linecolor": "white",
             "minorgridcolor": "white",
             "startlinecolor": "#2a3f5f"
            },
            "type": "carpet"
           }
          ],
          "choropleth": [
           {
            "colorbar": {
             "outlinewidth": 0,
             "ticks": ""
            },
            "type": "choropleth"
           }
          ],
          "contour": [
           {
            "colorbar": {
             "outlinewidth": 0,
             "ticks": ""
            },
            "colorscale": [
             [
              0,
              "#0d0887"
             ],
             [
              0.1111111111111111,
              "#46039f"
             ],
             [
              0.2222222222222222,
              "#7201a8"
             ],
             [
              0.3333333333333333,
              "#9c179e"
             ],
             [
              0.4444444444444444,
              "#bd3786"
             ],
             [
              0.5555555555555556,
              "#d8576b"
             ],
             [
              0.6666666666666666,
              "#ed7953"
             ],
             [
              0.7777777777777778,
              "#fb9f3a"
             ],
             [
              0.8888888888888888,
              "#fdca26"
             ],
             [
              1,
              "#f0f921"
             ]
            ],
            "type": "contour"
           }
          ],
          "contourcarpet": [
           {
            "colorbar": {
             "outlinewidth": 0,
             "ticks": ""
            },
            "type": "contourcarpet"
           }
          ],
          "heatmap": [
           {
            "colorbar": {
             "outlinewidth": 0,
             "ticks": ""
            },
            "colorscale": [
             [
              0,
              "#0d0887"
             ],
             [
              0.1111111111111111,
              "#46039f"
             ],
             [
              0.2222222222222222,
              "#7201a8"
             ],
             [
              0.3333333333333333,
              "#9c179e"
             ],
             [
              0.4444444444444444,
              "#bd3786"
             ],
             [
              0.5555555555555556,
              "#d8576b"
             ],
             [
              0.6666666666666666,
              "#ed7953"
             ],
             [
              0.7777777777777778,
              "#fb9f3a"
             ],
             [
              0.8888888888888888,
              "#fdca26"
             ],
             [
              1,
              "#f0f921"
             ]
            ],
            "type": "heatmap"
           }
          ],
          "histogram": [
           {
            "marker": {
             "pattern": {
              "fillmode": "overlay",
              "size": 10,
              "solidity": 0.2
             }
            },
            "type": "histogram"
           }
          ],
          "histogram2d": [
           {
            "colorbar": {
             "outlinewidth": 0,
             "ticks": ""
            },
            "colorscale": [
             [
              0,
              "#0d0887"
             ],
             [
              0.1111111111111111,
              "#46039f"
             ],
             [
              0.2222222222222222,
              "#7201a8"
             ],
             [
              0.3333333333333333,
              "#9c179e"
             ],
             [
              0.4444444444444444,
              "#bd3786"
             ],
             [
              0.5555555555555556,
              "#d8576b"
             ],
             [
              0.6666666666666666,
              "#ed7953"
             ],
             [
              0.7777777777777778,
              "#fb9f3a"
             ],
             [
              0.8888888888888888,
              "#fdca26"
             ],
             [
              1,
              "#f0f921"
             ]
            ],
            "type": "histogram2d"
           }
          ],
          "histogram2dcontour": [
           {
            "colorbar": {
             "outlinewidth": 0,
             "ticks": ""
            },
            "colorscale": [
             [
              0,
              "#0d0887"
             ],
             [
              0.1111111111111111,
              "#46039f"
             ],
             [
              0.2222222222222222,
              "#7201a8"
             ],
             [
              0.3333333333333333,
              "#9c179e"
             ],
             [
              0.4444444444444444,
              "#bd3786"
             ],
             [
              0.5555555555555556,
              "#d8576b"
             ],
             [
              0.6666666666666666,
              "#ed7953"
             ],
             [
              0.7777777777777778,
              "#fb9f3a"
             ],
             [
              0.8888888888888888,
              "#fdca26"
             ],
             [
              1,
              "#f0f921"
             ]
            ],
            "type": "histogram2dcontour"
           }
          ],
          "mesh3d": [
           {
            "colorbar": {
             "outlinewidth": 0,
             "ticks": ""
            },
            "type": "mesh3d"
           }
          ],
          "parcoords": [
           {
            "line": {
             "colorbar": {
              "outlinewidth": 0,
              "ticks": ""
             }
            },
            "type": "parcoords"
           }
          ],
          "pie": [
           {
            "automargin": true,
            "type": "pie"
           }
          ],
          "scatter": [
           {
            "fillpattern": {
             "fillmode": "overlay",
             "size": 10,
             "solidity": 0.2
            },
            "type": "scatter"
           }
          ],
          "scatter3d": [
           {
            "line": {
             "colorbar": {
              "outlinewidth": 0,
              "ticks": ""
             }
            },
            "marker": {
             "colorbar": {
              "outlinewidth": 0,
              "ticks": ""
             }
            },
            "type": "scatter3d"
           }
          ],
          "scattercarpet": [
           {
            "marker": {
             "colorbar": {
              "outlinewidth": 0,
              "ticks": ""
             }
            },
            "type": "scattercarpet"
           }
          ],
          "scattergeo": [
           {
            "marker": {
             "colorbar": {
              "outlinewidth": 0,
              "ticks": ""
             }
            },
            "type": "scattergeo"
           }
          ],
          "scattergl": [
           {
            "marker": {
             "colorbar": {
              "outlinewidth": 0,
              "ticks": ""
             }
            },
            "type": "scattergl"
           }
          ],
          "scattermap": [
           {
            "marker": {
             "colorbar": {
              "outlinewidth": 0,
              "ticks": ""
             }
            },
            "type": "scattermap"
           }
          ],
          "scattermapbox": [
           {
            "marker": {
             "colorbar": {
              "outlinewidth": 0,
              "ticks": ""
             }
            },
            "type": "scattermapbox"
           }
          ],
          "scatterpolar": [
           {
            "marker": {
             "colorbar": {
              "outlinewidth": 0,
              "ticks": ""
             }
            },
            "type": "scatterpolar"
           }
          ],
          "scatterpolargl": [
           {
            "marker": {
             "colorbar": {
              "outlinewidth": 0,
              "ticks": ""
             }
            },
            "type": "scatterpolargl"
           }
          ],
          "scatterternary": [
           {
            "marker": {
             "colorbar": {
              "outlinewidth": 0,
              "ticks": ""
             }
            },
            "type": "scatterternary"
           }
          ],
          "surface": [
           {
            "colorbar": {
             "outlinewidth": 0,
             "ticks": ""
            },
            "colorscale": [
             [
              0,
              "#0d0887"
             ],
             [
              0.1111111111111111,
              "#46039f"
             ],
             [
              0.2222222222222222,
              "#7201a8"
             ],
             [
              0.3333333333333333,
              "#9c179e"
             ],
             [
              0.4444444444444444,
              "#bd3786"
             ],
             [
              0.5555555555555556,
              "#d8576b"
             ],
             [
              0.6666666666666666,
              "#ed7953"
             ],
             [
              0.7777777777777778,
              "#fb9f3a"
             ],
             [
              0.8888888888888888,
              "#fdca26"
             ],
             [
              1,
              "#f0f921"
             ]
            ],
            "type": "surface"
           }
          ],
          "table": [
           {
            "cells": {
             "fill": {
              "color": "#EBF0F8"
             },
             "line": {
              "color": "white"
             }
            },
            "header": {
             "fill": {
              "color": "#C8D4E3"
             },
             "line": {
              "color": "white"
             }
            },
            "type": "table"
           }
          ]
         },
         "layout": {
          "annotationdefaults": {
           "arrowcolor": "#2a3f5f",
           "arrowhead": 0,
           "arrowwidth": 1
          },
          "autotypenumbers": "strict",
          "coloraxis": {
           "colorbar": {
            "outlinewidth": 0,
            "ticks": ""
           }
          },
          "colorscale": {
           "diverging": [
            [
             0,
             "#8e0152"
            ],
            [
             0.1,
             "#c51b7d"
            ],
            [
             0.2,
             "#de77ae"
            ],
            [
             0.3,
             "#f1b6da"
            ],
            [
             0.4,
             "#fde0ef"
            ],
            [
             0.5,
             "#f7f7f7"
            ],
            [
             0.6,
             "#e6f5d0"
            ],
            [
             0.7,
             "#b8e186"
            ],
            [
             0.8,
             "#7fbc41"
            ],
            [
             0.9,
             "#4d9221"
            ],
            [
             1,
             "#276419"
            ]
           ],
           "sequential": [
            [
             0,
             "#0d0887"
            ],
            [
             0.1111111111111111,
             "#46039f"
            ],
            [
             0.2222222222222222,
             "#7201a8"
            ],
            [
             0.3333333333333333,
             "#9c179e"
            ],
            [
             0.4444444444444444,
             "#bd3786"
            ],
            [
             0.5555555555555556,
             "#d8576b"
            ],
            [
             0.6666666666666666,
             "#ed7953"
            ],
            [
             0.7777777777777778,
             "#fb9f3a"
            ],
            [
             0.8888888888888888,
             "#fdca26"
            ],
            [
             1,
             "#f0f921"
            ]
           ],
           "sequentialminus": [
            [
             0,
             "#0d0887"
            ],
            [
             0.1111111111111111,
             "#46039f"
            ],
            [
             0.2222222222222222,
             "#7201a8"
            ],
            [
             0.3333333333333333,
             "#9c179e"
            ],
            [
             0.4444444444444444,
             "#bd3786"
            ],
            [
             0.5555555555555556,
             "#d8576b"
            ],
            [
             0.6666666666666666,
             "#ed7953"
            ],
            [
             0.7777777777777778,
             "#fb9f3a"
            ],
            [
             0.8888888888888888,
             "#fdca26"
            ],
            [
             1,
             "#f0f921"
            ]
           ]
          },
          "colorway": [
           "#636efa",
           "#EF553B",
           "#00cc96",
           "#ab63fa",
           "#FFA15A",
           "#19d3f3",
           "#FF6692",
           "#B6E880",
           "#FF97FF",
           "#FECB52"
          ],
          "font": {
           "color": "#2a3f5f"
          },
          "geo": {
           "bgcolor": "white",
           "lakecolor": "white",
           "landcolor": "#E5ECF6",
           "showlakes": true,
           "showland": true,
           "subunitcolor": "white"
          },
          "hoverlabel": {
           "align": "left"
          },
          "hovermode": "closest",
          "mapbox": {
           "style": "light"
          },
          "paper_bgcolor": "white",
          "plot_bgcolor": "#E5ECF6",
          "polar": {
           "angularaxis": {
            "gridcolor": "white",
            "linecolor": "white",
            "ticks": ""
           },
           "bgcolor": "#E5ECF6",
           "radialaxis": {
            "gridcolor": "white",
            "linecolor": "white",
            "ticks": ""
           }
          },
          "scene": {
           "xaxis": {
            "backgroundcolor": "#E5ECF6",
            "gridcolor": "white",
            "gridwidth": 2,
            "linecolor": "white",
            "showbackground": true,
            "ticks": "",
            "zerolinecolor": "white"
           },
           "yaxis": {
            "backgroundcolor": "#E5ECF6",
            "gridcolor": "white",
            "gridwidth": 2,
            "linecolor": "white",
            "showbackground": true,
            "ticks": "",
            "zerolinecolor": "white"
           },
           "zaxis": {
            "backgroundcolor": "#E5ECF6",
            "gridcolor": "white",
            "gridwidth": 2,
            "linecolor": "white",
            "showbackground": true,
            "ticks": "",
            "zerolinecolor": "white"
           }
          },
          "shapedefaults": {
           "line": {
            "color": "#2a3f5f"
           }
          },
          "ternary": {
           "aaxis": {
            "gridcolor": "white",
            "linecolor": "white",
            "ticks": ""
           },
           "baxis": {
            "gridcolor": "white",
            "linecolor": "white",
            "ticks": ""
           },
           "bgcolor": "#E5ECF6",
           "caxis": {
            "gridcolor": "white",
            "linecolor": "white",
            "ticks": ""
           }
          },
          "title": {
           "x": 0.05
          },
          "xaxis": {
           "automargin": true,
           "gridcolor": "white",
           "linecolor": "white",
           "ticks": "",
           "title": {
            "standoff": 15
           },
           "zerolinecolor": "white",
           "zerolinewidth": 2
          },
          "yaxis": {
           "automargin": true,
           "gridcolor": "white",
           "linecolor": "white",
           "ticks": "",
           "title": {
            "standoff": 15
           },
           "zerolinecolor": "white",
           "zerolinewidth": 2
          }
         }
        },
        "title": {
         "font": {
          "size": 22
         },
         "text": "Continued Chats vs. Ghosting",
         "x": 0.5
        }
       }
      },
      "image/png": "[encoded data removed]"
     },
     "metadata": {},
     "output_type": "display_data"
    }
   ],
   "source": [
    "import pandas as pd\n",
    "import plotly.express as px\n",
    "\n",
    "stat = dating_df[['nrOfGhostingsAfterInitialMessage', 'continued_conversations']].sum()\n",
    "stat.index = ['ghosting', 'continued'] \n",
    "stat_df = stat.reset_index()\n",
    "stat_df.columns = ['Type', 'Count']\n",
    "\n",
    "fig = px.pie(stat_df,names='Type',values='Count',color='Type',color_discrete_map={'continued': '#27ae60','ghosting': '#e74c3c'})\n",
    "\n",
    "fig.update_traces(textinfo='label+percent', textfont_size=15, marker=dict(line=dict(color='black', width=0.8)))\n",
    "fig.update_layout(title='Continued Chats vs. Ghosting',title_x=0.5,title_font_size=22,margin=dict(t=80))\n",
    "fig.show()"
   ]
  },
  {
   "cell_type": "code",
   "execution_count": 9,
   "id": "1edbe9f9-de12-44e5-b8bd-486ca323d027",
   "metadata": {},
   "outputs": [
    {
     "data": {
      "text/html": [
       "<div>\n",
       "<style scoped>\n",
       "    .dataframe tbody tr th:only-of-type {\n",
       "        vertical-align: middle;\n",
       "    }\n",
       "\n",
       "    .dataframe tbody tr th {\n",
       "        vertical-align: top;\n",
       "    }\n",
       "\n",
       "    .dataframe thead th {\n",
       "        text-align: right;\n",
       "    }\n",
       "</style>\n",
       "<table border=\"1\" class=\"dataframe\">\n",
       "  <thead>\n",
       "    <tr style=\"text-align: right;\">\n",
       "      <th></th>\n",
       "      <th>category</th>\n",
       "      <th>max value</th>\n",
       "      <th>ghosting_count</th>\n",
       "      <th>total amount</th>\n",
       "    </tr>\n",
       "  </thead>\n",
       "  <tbody>\n",
       "    <tr>\n",
       "      <th>0</th>\n",
       "      <td>country</td>\n",
       "      <td>USA</td>\n",
       "      <td>183</td>\n",
       "      <td>227</td>\n",
       "    </tr>\n",
       "    <tr>\n",
       "      <th>1</th>\n",
       "      <td>gender</td>\n",
       "      <td>M</td>\n",
       "      <td>415</td>\n",
       "      <td>1059</td>\n",
       "    </tr>\n",
       "    <tr>\n",
       "      <th>2</th>\n",
       "      <td>age_group</td>\n",
       "      <td>26-40</td>\n",
       "      <td>298</td>\n",
       "      <td>738</td>\n",
       "    </tr>\n",
       "  </tbody>\n",
       "</table>\n",
       "</div>"
      ],
      "text/plain": [
       "    category max value  ghosting_count  total amount\n",
       "0    country       USA             183           227\n",
       "1     gender         M             415          1059\n",
       "2  age_group     26-40             298           738"
      ]
     },
     "execution_count": 9,
     "metadata": {},
     "output_type": "execute_result"
    }
   ],
   "source": [
    "filtered_ghosting = dating_df[(dating_df['nrOfGhostingsAfterInitialMessage'] != 0) &(dating_df['country'] != 'unknown')]\n",
    "\n",
    "max_country = filtered_ghosting['country'].value_counts().idxmax()\n",
    "max_country_count = filtered_ghosting['country'].value_counts().max()\n",
    "\n",
    "max_gender = filtered_ghosting['gender'].value_counts().idxmax()\n",
    "max_gender_count = filtered_ghosting['gender'].value_counts().max()\n",
    "\n",
    "max_age = filtered_ghosting['age_group'].value_counts().idxmax()\n",
    "max_age_count = filtered_ghosting['age_group'].value_counts().max()\n",
    "\n",
    "total_country = dating_df[dating_df['country'] == max_country].shape[0]\n",
    "total_gender = dating_df[dating_df['gender'] == max_gender].shape[0]\n",
    "total_age = dating_df[dating_df['age_group'] == max_age].shape[0]\n",
    "\n",
    "tab = pd.DataFrame({'category': ['country', 'gender', 'age_group'],\n",
    "                    'max value': [max_country, max_gender, max_age],\n",
    "                    'ghosting_count': [max_country_count, max_gender_count, max_age_count],\n",
    "                    'total amount': [total_country, total_gender, total_age]})\n",
    "\n",
    "tab"
   ]
  },
  {
   "cell_type": "code",
   "execution_count": 10,
   "id": "b92574d3-1d87-4975-a49b-e583a806b509",
   "metadata": {},
   "outputs": [
    {
     "ename": "NameError",
     "evalue": "name 'np' is not defined",
     "output_type": "error",
     "traceback": [
      "\u001b[31m---------------------------------------------------------------------------\u001b[39m",
      "\u001b[31mNameError\u001b[39m                                 Traceback (most recent call last)",
      "\u001b[36mCell\u001b[39m\u001b[36m \u001b[39m\u001b[32mIn[10]\u001b[39m\u001b[32m, line 6\u001b[39m\n\u001b[32m      1\u001b[39m tab = pd.DataFrame({\u001b[33m'\u001b[39m\u001b[33mcategory\u001b[39m\u001b[33m'\u001b[39m: [\u001b[33m'\u001b[39m\u001b[33mcountry\u001b[39m\u001b[33m'\u001b[39m, \u001b[33m'\u001b[39m\u001b[33mgender\u001b[39m\u001b[33m'\u001b[39m, \u001b[33m'\u001b[39m\u001b[33mage_group\u001b[39m\u001b[33m'\u001b[39m],\n\u001b[32m      2\u001b[39m                     \u001b[33m'\u001b[39m\u001b[33mmax value\u001b[39m\u001b[33m'\u001b[39m: [\u001b[33m'\u001b[39m\u001b[33mUSA\u001b[39m\u001b[33m'\u001b[39m, \u001b[33m'\u001b[39m\u001b[33mM\u001b[39m\u001b[33m'\u001b[39m, \u001b[33m'\u001b[39m\u001b[33m26-40\u001b[39m\u001b[33m'\u001b[39m], \n\u001b[32m      3\u001b[39m                     \u001b[33m'\u001b[39m\u001b[33mghosting_count\u001b[39m\u001b[33m'\u001b[39m: [\u001b[32m183\u001b[39m, \u001b[32m415\u001b[39m, \u001b[32m298\u001b[39m],    \n\u001b[32m      4\u001b[39m                     \u001b[33m'\u001b[39m\u001b[33mtotal amount\u001b[39m\u001b[33m'\u001b[39m: [\u001b[32m227\u001b[39m, \u001b[32m1059\u001b[39m, \u001b[32m738\u001b[39m] })     \n\u001b[32m----> \u001b[39m\u001b[32m6\u001b[39m x = \u001b[43mnp\u001b[49m.arange(\u001b[38;5;28mlen\u001b[39m(tab)) \n\u001b[32m      7\u001b[39m width = \u001b[32m0.35\u001b[39m  \n\u001b[32m      9\u001b[39m plt.figure(figsize=(\u001b[32m8\u001b[39m, \u001b[32m6\u001b[39m))\n",
      "\u001b[31mNameError\u001b[39m: name 'np' is not defined"
     ]
    }
   ],
   "source": [
    "tab = pd.DataFrame({'category': ['country', 'gender', 'age_group'],\n",
    "                    'max value': ['USA', 'M', '26-40'], \n",
    "                    'ghosting_count': [183, 415, 298],    \n",
    "                    'total amount': [227, 1059, 738] })     \n",
    "\n",
    "x = np.arange(len(tab)) \n",
    "width = 0.35  \n",
    "\n",
    "plt.figure(figsize=(8, 6))\n",
    "plt.bar(x - width/2, tab['ghosting_count'], width, label='Ghosting', color='mediumpurple',  edgecolor='black')\n",
    "plt.bar(x + width/2, tab['total amount'], width, label='Total', color='lightgrey', edgecolor='black')\n",
    "\n",
    "plt.xticks(x, tab['max value']) \n",
    "plt.ylabel('Count')\n",
    "plt.title('Ghosting vs Total by max values')\n",
    "plt.legend()\n",
    "\n",
    "plt.tight_layout()\n",
    "plt.show()"
   ]
  },
  {
   "cell_type": "markdown",
   "id": "80136aa2-802f-461f-824e-bd8ed797de95",
   "metadata": {},
   "source": [
    "#### מסקנה שלישית: \n",
    "ארהב היא המדינה בעלת כמות המשתמשים הגדולה ביותר שעושים גוסטינג, ניתן לראות כי מדובר ברוב המוחלט. \n",
    "\n",
    "גברים עושים יותר גוסטינג מנשים, כמעט מחצי הגברים מתוך אוכלוסיית הגברים באפליקציה עושים גוסטינג.\n",
    "\n",
    "קבוצת הגילאים בעלת כמות הגוסטינג הגבוהה ביותר היא בין 26-40, כמעט מחצי מאוכלוסיית המשתמשים באותה שכבת גיל עושים גוסטינג. \n"
   ]
  },
  {
   "cell_type": "code",
   "execution_count": null,
   "id": "20dedc0b-c0db-472a-a3c0-799612698341",
   "metadata": {},
   "outputs": [],
   "source": []
  },
  {
   "cell_type": "code",
   "execution_count": null,
   "id": "ccbdfee5-bf4c-40a7-934b-e6e569472824",
   "metadata": {},
   "outputs": [],
   "source": []
  },
  {
   "cell_type": "code",
   "execution_count": null,
   "id": "6d97c579-0de2-4fa5-b5b1-f5258344812a",
   "metadata": {},
   "outputs": [],
   "source": []
  }
 ],
 "metadata": {
  "kernelspec": {
   "display_name": "Python 3 (ipykernel)",
   "language": "python",
   "name": "python3"
  },
  "language_info": {
   "codemirror_mode": {
    "name": "ipython",
    "version": 3
   },
   "file_extension": ".py",
   "mimetype": "text/x-python",
   "name": "python",
   "nbconvert_exporter": "python",
   "pygments_lexer": "ipython3",
   "version": "3.13.2"
  }
 },
 "nbformat": 4,
 "nbformat_minor": 5
}
